{
 "cells": [
  {
   "cell_type": "markdown",
   "metadata": {},
   "source": [
    "This model uses CNNs to classify audio input into instrument classes.\n",
    "\n",
    "General Procedure:\n",
    "\t- Use STFTs to transform audio input into spectral graphs\n",
    "\t- Use spectral graphs as \"images\" to classify into instrument classes\n",
    "\n",
    "Data Format:\n",
    " \t- Data is stored in tfrecord form obtained from the Nsynth dataset: https://magenta.tensorflow.org/datasets/nsynth\n",
    "\n",
    "Based off of aymericdamien's TensorFlow examples: https://github.com/aymericdamien/TensorFlow-Examples"
   ]
  },
  {
   "cell_type": "code",
   "execution_count": 1,
   "metadata": {},
   "outputs": [],
   "source": [
    "from __future__ import absolute_import\n",
    "from __future__ import division\n",
    "from __future__ import print_function\n",
    "\n",
    "import tensorflow as tf\n",
    "from tensorflow.contrib.framework.python.ops import audio_ops\n",
    "import matplotlib.pyplot as plt\n",
    "import numpy as np"
   ]
  },
  {
   "cell_type": "code",
   "execution_count": 5,
   "metadata": {},
   "outputs": [],
   "source": [
    "# Training Parameters\n",
    "LEARNING_RATE = 0.001\n",
    "NUM_STEPS = 2000\n",
    "BATCH_SIZE = 128\n",
    "\n",
    "# Network Parameters\n",
    "NUM_INPUT = 16384   # spectrogram data input (img shape: 128*128)\n",
    "NUM_CLASSES = 11    # total instrument classes\n",
    "DROPOUT = 0.25      # Dropout, probability to drop a unit\n",
    "\n",
    "# Data paths\n",
    "TRAINING_DATA = \"../nsynth-test.tfrecord\"\n",
    "TEST_DATA = \"../nsynth-test.tfrecord\"\n",
    "EVAL_DATA = \"../nsynth-test.tfrecord\"\n",
    "\n",
    "# Data parameters\n",
    "SAMPLE_RATE = 16000"
   ]
  },
  {
   "cell_type": "code",
   "execution_count": 4,
   "metadata": {},
   "outputs": [
    {
     "name": "stdout",
     "output_type": "stream",
     "text": [
      "[[22. 28.]\n",
      " [49. 64.]]\n"
     ]
    }
   ],
   "source": [
    "# Test GPU presence\n",
    "# If no errors thrown, GPU is being used\n",
    "with tf.device('/gpu:0'):\n",
    "    a = tf.constant([1.0, 2.0, 3.0, 4.0, 5.0, 6.0], shape=[2, 3], name='a')\n",
    "    b = tf.constant([1.0, 2.0, 3.0, 4.0, 5.0, 6.0], shape=[3, 2], name='b')\n",
    "    c = tf.matmul(a, b)\n",
    "\n",
    "with tf.Session() as sess:\n",
    "    print (sess.run(c))"
   ]
  },
  {
   "cell_type": "code",
   "execution_count": 3,
   "metadata": {},
   "outputs": [],
   "source": [
    "# Create the neural network\n",
    "def conv_net(x_dict, n_classes, dropout, reuse, is_training):\n",
    "    \n",
    "    # Define a scope for reusing the variables\n",
    "    with tf.variable_scope('ConvNet', reuse=reuse):\n",
    "        # TF Estimator input is a dict, in case of multiple inputs\n",
    "        x = x_dict['images']\n",
    "\n",
    "        # Spectrogram data input is a 1-D vector of 16384 features (128*128 pixels)\n",
    "        # Reshape to match picture format [Height x Width x Channel]\n",
    "        # Tensor input become 4-D: [Batch Size, Height, Width, Channel]\n",
    "        x = tf.reshape(x, shape=[-1, 128, 128, 1])\n",
    "\n",
    "        # Convolution Layer with 32 filters and a kernel size of 5\n",
    "        conv1 = tf.layers.conv2d(x, 32, 5, activation=tf.nn.relu)\n",
    "        # Max Pooling (down-sampling) with strides of 2 and kernel size of 2\n",
    "        conv1 = tf.layers.max_pooling2d(conv1, 2, 2)\n",
    "\n",
    "        # Convolution Layer with 64 filters and a kernel size of 3\n",
    "        conv2 = tf.layers.conv2d(conv1, 64, 3, activation=tf.nn.relu)\n",
    "        # Max Pooling (down-sampling) with strides of 2 and kernel size of 2\n",
    "        conv2 = tf.layers.max_pooling2d(conv2, 2, 2)\n",
    "\n",
    "        # Flatten the data to a 1-D vector for the fully connected layer\n",
    "        fc1 = tf.contrib.layers.flatten(conv2)\n",
    "\n",
    "        # Fully connected layer (in tf contrib folder for now)\n",
    "        fc1 = tf.layers.dense(fc1, 1024)\n",
    "        # Apply Dropout (if is_training is False, dropout is not applied)\n",
    "        fc1 = tf.layers.dropout(fc1, rate=dropout, training=is_training)\n",
    "\n",
    "        # Output layer, class prediction\n",
    "        out = tf.layers.dense(fc1, n_classes)\n",
    "\n",
    "    return out"
   ]
  },
  {
   "cell_type": "code",
   "execution_count": null,
   "metadata": {},
   "outputs": [],
   "source": [
    "# Define the model function (following TF Estimator Template)\n",
    "def model_fn(features, labels, mode):\n",
    "    \n",
    "    # Build the neural network\n",
    "    # Because Dropout have different behavior at training and prediction time, we\n",
    "    # need to create 2 distinct computation graphs that still share the same weights.\n",
    "    logits_train = conv_net(features, NUM_CLASSES, DROPOUT, reuse=False, is_training=True)\n",
    "    logits_test = conv_net(features, NUM_CLASSES, DROPOUT, reuse=True, is_training=False)\n",
    "    \n",
    "    # Predictions\n",
    "    pred_classes = tf.argmax(logits_test, axis=1)\n",
    "    pred_probas = tf.nn.softmax(logits_test)\n",
    "    \n",
    "    # If prediction mode, early return\n",
    "    if mode == tf.estimator.ModeKeys.PREDICT:\n",
    "        return tf.estimator.EstimatorSpec(mode, predictions=pred_classes) \n",
    "        \n",
    "    # Define loss and optimizer\n",
    "    loss_op = tf.reduce_mean(tf.nn.sparse_softmax_cross_entropy_with_logits(\n",
    "        logits=logits_train, labels=tf.cast(labels, dtype=tf.int32)))\n",
    "    optimizer = tf.train.AdamOptimizer(learning_rate=LEARNING_RATE)\n",
    "    train_op = optimizer.minimize(loss_op, global_step=tf.train.get_global_step())\n",
    "    \n",
    "    # Evaluate the accuracy of the model\n",
    "    acc_op = tf.metrics.accuracy(labels=labels, predictions=pred_classes)\n",
    "    \n",
    "    # TF Estimators requires to return a EstimatorSpec, that specify\n",
    "    # the different ops for training, evaluating, ...\n",
    "    estim_specs = tf.estimator.EstimatorSpec(\n",
    "      mode=mode,\n",
    "      predictions=pred_classes,\n",
    "      loss=loss_op,\n",
    "      train_op=train_op,\n",
    "      eval_metric_ops={'accuracy': acc_op})\n",
    "\n",
    "    return estim_specs"
   ]
  },
  {
   "cell_type": "code",
   "execution_count": null,
   "metadata": {},
   "outputs": [],
   "source": [
    "# Build the Estimator\n",
    "model = tf.estimator.Estimator(model_fn)"
   ]
  },
  {
   "cell_type": "code",
   "execution_count": 6,
   "metadata": {},
   "outputs": [
    {
     "ename": "NameError",
     "evalue": "name 'model' is not defined",
     "output_type": "error",
     "traceback": [
      "\u001b[1;31m---------------------------------------------------------------------------\u001b[0m",
      "\u001b[1;31mNameError\u001b[0m                                 Traceback (most recent call last)",
      "\u001b[1;32m<ipython-input-6-295256f11658>\u001b[0m in \u001b[0;36m<module>\u001b[1;34m()\u001b[0m\n\u001b[0;32m     49\u001b[0m \u001b[1;33m\u001b[0m\u001b[0m\n\u001b[0;32m     50\u001b[0m \u001b[1;31m# Train the Model\u001b[0m\u001b[1;33m\u001b[0m\u001b[1;33m\u001b[0m\u001b[0m\n\u001b[1;32m---> 51\u001b[1;33m \u001b[0mmodel\u001b[0m\u001b[1;33m.\u001b[0m\u001b[0mtrain\u001b[0m\u001b[1;33m(\u001b[0m\u001b[0mtfreocrd_train_input_fn\u001b[0m\u001b[1;33m,\u001b[0m \u001b[0msteps\u001b[0m\u001b[1;33m=\u001b[0m\u001b[0mNUM_STEPS\u001b[0m\u001b[1;33m)\u001b[0m\u001b[1;33m\u001b[0m\u001b[0m\n\u001b[0m",
      "\u001b[1;31mNameError\u001b[0m: name 'model' is not defined"
     ]
    }
   ],
   "source": [
    "# Define the input function for training\n",
    "# input_fn = tf.estimator.inputs.numpy_input_fn(\n",
    "#     x={'images': mnist.train.images}, y=mnist.train.labels,\n",
    "#     batch_size=BATCH_SIZE, num_epochs=None, shuffle=True)\n",
    "\n",
    "# Function to parse the TFRecord\n",
    "def _parse_(serialized_example):\n",
    "    feature_list = {'note': tf.FixedLenFeature(shape=[], dtype=tf.int64),\n",
    "                'note_str': tf.FixedLenFeature(shape=[], dtype=tf.string),\n",
    "                'instrument': tf.FixedLenFeature(shape=[], dtype=tf.int64),\n",
    "                'instrument_str': tf.FixedLenFeature(shape=[], dtype=tf.string),\n",
    "                'pitch': tf.FixedLenFeature(shape=[], dtype=tf.int64),\n",
    "                'velocity': tf.FixedLenFeature(shape=[], dtype=tf.int64),\n",
    "                'sample_rate': tf.FixedLenFeature(shape=[], dtype=tf.int64),\n",
    "                'audio': tf.FixedLenFeature(shape=[1], dtype=tf.float32),\n",
    "                'qualities': tf.FixedLenFeature(shape=[1], dtype=tf.int64),\n",
    "                'qualities_str': tf.FixedLenFeature(shape=[1], dtype=tf.string),\n",
    "                'instrument_family': tf.FixedLenFeature(shape=[], dtype=tf.int64),\n",
    "                'instrument_family_str': tf.FixedLenFeature(shape=[], dtype=tf.string),\n",
    "                'instrument_source': tf.FixedLenFeature(shape=[], dtype=tf.int64),\n",
    "                'instrument_source_str': tf.FixedLenFeature(shape=[], dtype=tf.string)}\n",
    "    \n",
    "    # Extract example by features\n",
    "    example = tf.parse_single_example(serialized_example, feature_list)\n",
    "    \n",
    "    # Convert wav data to normalized spectrogram\n",
    "    waveform = audio_ops.decode_wav(example[\"audio\"], file_format='wav', desired_channels=1)\n",
    "    spectrogram = audio_ops.audio_spectrogram(waveform.audio, window_size=1024, stride=64)\n",
    "    min_const = tf.constant(255.)\n",
    "    minned_spectrogram = tf.minimum(spectrogram, min_const)\n",
    "    expanded = tf.expand_dims(minned_spectrogram, -1)\n",
    "    resized = tf.image.resize_bilinear(expanded, [128, 128])\n",
    "    squeezed = tf.squeeze(resized, 0)\n",
    "    flipped = tf.image.flip_left_right(squeezed)\n",
    "    normalized_spectrogram = tf.image.transpose_image(flipped)\n",
    "    \n",
    "    # Cast data to input format required by model\n",
    "    image = tf.decode_raw(normalized_spectrogram,tf.int64) #remember to parse in int64. float will raise error\n",
    "    label = tf.cast(example['instrument_family'],tf.int64)\n",
    "    return (dict({'image':image}),label)\n",
    "\n",
    "# Define the data input function for training\n",
    "def tfrecord_train_input_fn(batch_size=32):\n",
    "    tfrecord_dataset = tf.data.TFRecordDataset(TRAINING_DATA)\n",
    "    tfrecord_dataset = tfrecord_dataset.map(lambda   x:_parse_(x)).shuffle(True).batch(batch_size)\n",
    "    tfrecord_iterator = tfrecord_dataset.make_one_shot_iterator()\n",
    "    \n",
    "    return tfrecord_iterator.get_next()\n",
    "\n",
    "# Train the Model\n",
    "model.train(tfrecord_train_input_fn, steps=NUM_STEPS)"
   ]
  },
  {
   "cell_type": "code",
   "execution_count": null,
   "metadata": {},
   "outputs": [],
   "source": [
    "# Evaluate the Model\n",
    "# Define the input function for evaluating\n",
    "input_fn = tf.estimator.inputs.numpy_input_fn(\n",
    "    x={'images': mnist.test.images}, y=mnist.test.labels,\n",
    "    batch_size=BATCH_SIZE, shuffle=False)\n",
    "# Use the Estimator 'evaluate' method\n",
    "model.evaluate(input_fn)"
   ]
  },
  {
   "cell_type": "code",
   "execution_count": null,
   "metadata": {},
   "outputs": [],
   "source": [
    "# Predict single images\n",
    "n_images = 4\n",
    "# Get images from test set\n",
    "test_images = mnist.test.images[:n_images]\n",
    "# Prepare the input data\n",
    "input_fn = tf.estimator.inputs.numpy_input_fn(\n",
    "    x={'images': test_images}, shuffle=False)\n",
    "# Use the model to predict the images class\n",
    "preds = list(model.predict(input_fn))\n",
    "\n",
    "# Display\n",
    "for i in range(n_images):\n",
    "    plt.imshow(np.reshape(test_images[i], [28, 28]), cmap='gray')\n",
    "    plt.show()\n",
    "    print(\"Model prediction:\", preds[i])"
   ]
  }
 ],
 "metadata": {
  "kernelspec": {
   "display_name": "Python 3",
   "language": "python",
   "name": "python3"
  },
  "language_info": {
   "codemirror_mode": {
    "name": "ipython",
    "version": 3
   },
   "file_extension": ".py",
   "mimetype": "text/x-python",
   "name": "python",
   "nbconvert_exporter": "python",
   "pygments_lexer": "ipython3",
   "version": "3.6.5"
  }
 },
 "nbformat": 4,
 "nbformat_minor": 2
}
